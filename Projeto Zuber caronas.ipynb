{
 "cells": [
  {
   "cell_type": "markdown",
   "metadata": {},
   "source": [
    "# Introdução\n",
    "Você está trabalhando como analista da Zuber, uma nova empresa de compartilhamento de caronas que está sendo lançada em Chicago. Sua tarefa é encontrar padrões nas informações disponíveis. Você quer entender as preferências dos passageiros e o impacto de fatores externos nas corridas.\n",
    "\n",
    "Trabalhando com um banco de dados, você analisará dados de concorrentes e testará uma hipótese sobre o impacto do clima na frequência das viagens."
   ]
  },
  {
   "cell_type": "markdown",
   "metadata": {},
   "source": [
    "### Etapas feitas fora do Jupyter:\n",
    "\n",
    "#### Importando os dados sobre o clima em Chicago em novembro de 2017 "
   ]
  },
  {
   "cell_type": "code",
   "execution_count": 4,
   "metadata": {},
   "outputs": [],
   "source": [
    "# import pandas as pd\n",
    "# import requests\n",
    "# from bs4 import BeautifulSoup\n",
    "# URL = 'https://practicum-content.s3.us-west-1.amazonaws.com/data-analyst-eng/moved_chicago_weather_2017.html'\n",
    "# req = requests.get(URL)\n",
    "# soup = BeautifulSoup(req.text, 'lxml')\n",
    "# table = soup.find('table', attrs={\"id\": \"weather_records\"})\n",
    "# heading_table = []\n",
    "# for row in table.find_all('th'): #cabeçalho\n",
    "#     heading_table.append(row.text)\n",
    "# content = []\n",
    "# for row in table.find_all('tr'): #para cada linha 'tr'\n",
    "#     if not row.find_all('th'):\n",
    "#         content.append([element.text for element in row.find_all('td')]) #célula 'td'\n",
    "# weather_records = pd.DataFrame(content, columns=heading_table)\n",
    "# print(weather_records)"
   ]
  },
  {
   "cell_type": "markdown",
   "metadata": {},
   "source": [
    "#### Trabalhando com SQL\n"
   ]
  },
  {
   "cell_type": "markdown",
   "metadata": {},
   "source": [
    "- 1) Número de corridas de táxi para cada empresa de táxi de 15 a 16 de novembro de 2017"
   ]
  },
  {
   "cell_type": "code",
   "execution_count": 6,
   "metadata": {},
   "outputs": [],
   "source": [
    "# SELECT\n",
    "#     cabs.company_name AS company_name,\n",
    "#     COUNT(trips.trip_id) AS trip_amount\n",
    "# FROM\n",
    "#     cabs INNER JOIN\n",
    "#     trips ON trips.cab_id = cabs.cab_id\n",
    "# WHERE\n",
    "#     CAST(start_ts AS date) BETWEEN '2017-11-15' AND '2017-11-16'\n",
    "# GROUP BY\n",
    "#     company_name\n",
    "# ORDER BY\n",
    "#     COUNT(trips.trip_id) DESC;"
   ]
  },
  {
   "cell_type": "markdown",
   "metadata": {},
   "source": [
    "- 2) Número de corridas para cada empresa de táxi cujo nome contém as palavras \"Amarelo\" ou \"Azul\" de 1 a 7 de novembro de 2017."
   ]
  },
  {
   "cell_type": "code",
   "execution_count": 7,
   "metadata": {},
   "outputs": [],
   "source": [
    "# SELECT \n",
    "#     cabs.company_name AS company_name, \n",
    "#     COUNT(trips.trip_id) AS trips_amount\n",
    "# FROM\n",
    "#     trips INNER JOIN\n",
    "#     cabs ON cabs.cab_id = trips.cab_id\n",
    "# WHERE\n",
    "#     cabs.company_name LIKE '%%Yellow%%'\n",
    "#     AND CAST(trips.start_ts AS date) bETWEEN '2017-11-01' AND '2017-11-07'\n",
    "# GROUP BY\n",
    "#     cabs.company_name\n",
    "# UNION ALL\n",
    "# SELECT \n",
    "#     cabs.company_name AS company_name, \n",
    "#     COUNT(trips.trip_id) AS trips_amount\n",
    "# FROM\n",
    "#     trips INNER JOIN\n",
    "#     cabs ON cabs.cab_id = trips.cab_id\n",
    "# WHERE\n",
    "#     cabs.company_name LIKE '%%Blue%%'\n",
    "#     AND CAST(trips.start_ts AS date) bETWEEN '2017-11-01' AND '2017-11-07'\n",
    "# GROUP BY \n",
    "#     company_name;"
   ]
  },
  {
   "cell_type": "markdown",
   "metadata": {},
   "source": [
    "- 3) Número de corridas para as empresas Flash Cab e Taxi Affiliation Services, juntando as corridas de todas as outras empresas no grupo \"Outros\""
   ]
  },
  {
   "cell_type": "code",
   "execution_count": null,
   "metadata": {},
   "outputs": [],
   "source": [
    "# SELECT\n",
    "#     CASE\n",
    "#         WHEN cabs.company_name = 'Flash Cab' THEN 'Flash Cab'\n",
    "#         WHEN cabs.company_name = 'Taxi Affiliation Services' THEN 'Taxi Affiliation Services'\n",
    "#         ELSE 'Other'\n",
    "#         END AS company,\n",
    "#     COUNT(trips.trip_id) AS trips_amount\n",
    "# FROM\n",
    "#     trips INNER JOIN\n",
    "#     cabs ON cabs.cab_id = trips.cab_id\n",
    "# WHERE\n",
    "#     CAST(trips.start_ts AS date) BETWEEN '2017-11-01' AND '2017-11-07'\n",
    "# GROUP BY\n",
    "#     company\n",
    "# ORDER BY\n",
    "#     COUNT(trips.trip_id) DESC;"
   ]
  },
  {
   "cell_type": "markdown",
   "metadata": {},
   "source": [
    "- 4) Identificadores dos bairros O'Hare e Loop da tabela neighborhoods\n"
   ]
  },
  {
   "cell_type": "code",
   "execution_count": null,
   "metadata": {},
   "outputs": [],
   "source": [
    "# SELECT \n",
    "#     neighborhood_id,\n",
    "#     name\n",
    "# FROM\n",
    "#     neighborhoods\n",
    "# WHERE\n",
    "#     name LIKE '%Hare' OR name LIKE 'Loop';"
   ]
  },
  {
   "cell_type": "markdown",
   "metadata": {},
   "source": [
    "- 5) Para cada hora, os registros de condições climáticas da tabela weather_records,  dividindo todas as horas em dois grupos: Bad (se o campo descrição contiver as palavras rain ou storm) e Good para outros.\n"
   ]
  },
  {
   "cell_type": "code",
   "execution_count": null,
   "metadata": {},
   "outputs": [],
   "source": [
    "# SELECT\n",
    "#     ts,\n",
    "#     CASE\n",
    "#         WHEN description LIKE '%rain%' OR description LIKE '%storm%' THEN 'Bad'\n",
    "#         ELSE 'Good'\n",
    "#     END AS weather_conditions\n",
    "# FROM \n",
    "#     weather_records;"
   ]
  },
  {
   "cell_type": "markdown",
   "metadata": {},
   "source": [
    "- 6) Todas as corridas que começaram no Loop em um sábado e terminaram em O'Hare - condições meteorológicas para cada corrida e a duração de cada corrida"
   ]
  },
  {
   "cell_type": "code",
   "execution_count": 8,
   "metadata": {},
   "outputs": [],
   "source": [
    "# SELECT\n",
    "#     start_ts,\n",
    "#     T.weather_conditions,\n",
    "#     duration_seconds\n",
    "# FROM \n",
    "#     trips INNER JOIN (\n",
    "#     SELECT\n",
    "#         ts,\n",
    "#         CASE\n",
    "#             WHEN description LIKE '%rain%' OR description LIKE '%storm%' THEN 'Bad'\n",
    "#             ELSE 'Good'\n",
    "#         END AS weather_conditions\n",
    "#     FROM \n",
    "#         weather_records\n",
    "#     ) T on T.ts = trips.start_ts\n",
    "# WHERE\n",
    "#     EXTRACT(DOW from trips.start_ts) = 6 AND pickup_location_id = 50 \n",
    "#     AND dropoff_location_id = 63\n",
    "# ORDER BY\n",
    "#     trip_id;"
   ]
  },
  {
   "cell_type": "markdown",
   "metadata": {},
   "source": [
    "## Inicialização"
   ]
  },
  {
   "cell_type": "code",
   "execution_count": 1,
   "metadata": {},
   "outputs": [],
   "source": [
    "import pandas as pd\n",
    "from scipy import stats as st"
   ]
  },
  {
   "cell_type": "markdown",
   "metadata": {},
   "source": [
    "## Carregar dados"
   ]
  },
  {
   "cell_type": "code",
   "execution_count": 2,
   "metadata": {},
   "outputs": [],
   "source": [
    "taxi_company = pd.read_csv('/datasets/project_sql_result_01.csv')\n",
    "dropoff_location = pd.read_csv('/datasets/project_sql_result_04.csv')"
   ]
  },
  {
   "cell_type": "markdown",
   "metadata": {},
   "source": [
    "## Explore os dados iniciais"
   ]
  },
  {
   "cell_type": "markdown",
   "metadata": {},
   "source": [
    "Descrição dos dados:\n",
    "\n",
    "taxi_company:\n",
    "- `company_name`: nome da empresa de táxi\n",
    "- `trips_amount`: o número de corridas para cada empresa de táxi de 15 a 16 de novembro de 2017.\n",
    "\n",
    "dropoff_location:\n",
    "- `dropoff_location_name`: bairros de Chicago onde as corridas terminaram\n",
    "- `average_trips`: o número médio de viagens que terminaram em cada bairro em novembro de 2017."
   ]
  },
  {
   "cell_type": "markdown",
   "metadata": {},
   "source": [
    "### Taxi_company"
   ]
  },
  {
   "cell_type": "code",
   "execution_count": 3,
   "metadata": {
    "scrolled": false
   },
   "outputs": [
    {
     "name": "stdout",
     "output_type": "stream",
     "text": [
      "<class 'pandas.core.frame.DataFrame'>\n",
      "RangeIndex: 64 entries, 0 to 63\n",
      "Data columns (total 2 columns):\n",
      " #   Column        Non-Null Count  Dtype \n",
      "---  ------        --------------  ----- \n",
      " 0   company_name  64 non-null     object\n",
      " 1   trips_amount  64 non-null     int64 \n",
      "dtypes: int64(1), object(1)\n",
      "memory usage: 1.1+ KB\n"
     ]
    }
   ],
   "source": [
    "taxi_company.info()"
   ]
  },
  {
   "cell_type": "code",
   "execution_count": 4,
   "metadata": {},
   "outputs": [
    {
     "data": {
      "text/html": [
       "<div>\n",
       "<style scoped>\n",
       "    .dataframe tbody tr th:only-of-type {\n",
       "        vertical-align: middle;\n",
       "    }\n",
       "\n",
       "    .dataframe tbody tr th {\n",
       "        vertical-align: top;\n",
       "    }\n",
       "\n",
       "    .dataframe thead th {\n",
       "        text-align: right;\n",
       "    }\n",
       "</style>\n",
       "<table border=\"1\" class=\"dataframe\">\n",
       "  <thead>\n",
       "    <tr style=\"text-align: right;\">\n",
       "      <th></th>\n",
       "      <th>company_name</th>\n",
       "      <th>trips_amount</th>\n",
       "    </tr>\n",
       "  </thead>\n",
       "  <tbody>\n",
       "    <tr>\n",
       "      <th>0</th>\n",
       "      <td>Flash Cab</td>\n",
       "      <td>19558</td>\n",
       "    </tr>\n",
       "    <tr>\n",
       "      <th>1</th>\n",
       "      <td>Taxi Affiliation Services</td>\n",
       "      <td>11422</td>\n",
       "    </tr>\n",
       "    <tr>\n",
       "      <th>2</th>\n",
       "      <td>Medallion Leasing</td>\n",
       "      <td>10367</td>\n",
       "    </tr>\n",
       "    <tr>\n",
       "      <th>3</th>\n",
       "      <td>Yellow Cab</td>\n",
       "      <td>9888</td>\n",
       "    </tr>\n",
       "    <tr>\n",
       "      <th>4</th>\n",
       "      <td>Taxi Affiliation Service Yellow</td>\n",
       "      <td>9299</td>\n",
       "    </tr>\n",
       "  </tbody>\n",
       "</table>\n",
       "</div>"
      ],
      "text/plain": [
       "                      company_name  trips_amount\n",
       "0                        Flash Cab         19558\n",
       "1        Taxi Affiliation Services         11422\n",
       "2                Medallion Leasing         10367\n",
       "3                       Yellow Cab          9888\n",
       "4  Taxi Affiliation Service Yellow          9299"
      ]
     },
     "execution_count": 4,
     "metadata": {},
     "output_type": "execute_result"
    }
   ],
   "source": [
    "taxi_company.head()"
   ]
  },
  {
   "cell_type": "code",
   "execution_count": 5,
   "metadata": {},
   "outputs": [
    {
     "data": {
      "text/plain": [
       "0"
      ]
     },
     "execution_count": 5,
     "metadata": {},
     "output_type": "execute_result"
    }
   ],
   "source": [
    "taxi_company.duplicated().sum()"
   ]
  },
  {
   "cell_type": "markdown",
   "metadata": {},
   "source": [
    "Possui 64 linhas e 2 colunas.\n",
    "- Não há valores ausentes. \n",
    "- Não há valores duplicados.\n",
    "- Os tipos de dados das 2 colunas está correto.\n",
    "\n",
    "Não há correções a serem feitas nesse dataframe."
   ]
  },
  {
   "cell_type": "markdown",
   "metadata": {},
   "source": [
    "### Dropoff_location\n"
   ]
  },
  {
   "cell_type": "code",
   "execution_count": 6,
   "metadata": {},
   "outputs": [
    {
     "name": "stdout",
     "output_type": "stream",
     "text": [
      "<class 'pandas.core.frame.DataFrame'>\n",
      "RangeIndex: 94 entries, 0 to 93\n",
      "Data columns (total 2 columns):\n",
      " #   Column                 Non-Null Count  Dtype  \n",
      "---  ------                 --------------  -----  \n",
      " 0   dropoff_location_name  94 non-null     object \n",
      " 1   average_trips          94 non-null     float64\n",
      "dtypes: float64(1), object(1)\n",
      "memory usage: 1.6+ KB\n"
     ]
    }
   ],
   "source": [
    "dropoff_location.info()"
   ]
  },
  {
   "cell_type": "code",
   "execution_count": 7,
   "metadata": {},
   "outputs": [
    {
     "data": {
      "text/html": [
       "<div>\n",
       "<style scoped>\n",
       "    .dataframe tbody tr th:only-of-type {\n",
       "        vertical-align: middle;\n",
       "    }\n",
       "\n",
       "    .dataframe tbody tr th {\n",
       "        vertical-align: top;\n",
       "    }\n",
       "\n",
       "    .dataframe thead th {\n",
       "        text-align: right;\n",
       "    }\n",
       "</style>\n",
       "<table border=\"1\" class=\"dataframe\">\n",
       "  <thead>\n",
       "    <tr style=\"text-align: right;\">\n",
       "      <th></th>\n",
       "      <th>dropoff_location_name</th>\n",
       "      <th>average_trips</th>\n",
       "    </tr>\n",
       "  </thead>\n",
       "  <tbody>\n",
       "    <tr>\n",
       "      <th>0</th>\n",
       "      <td>Loop</td>\n",
       "      <td>10727.466667</td>\n",
       "    </tr>\n",
       "    <tr>\n",
       "      <th>1</th>\n",
       "      <td>River North</td>\n",
       "      <td>9523.666667</td>\n",
       "    </tr>\n",
       "    <tr>\n",
       "      <th>2</th>\n",
       "      <td>Streeterville</td>\n",
       "      <td>6664.666667</td>\n",
       "    </tr>\n",
       "    <tr>\n",
       "      <th>3</th>\n",
       "      <td>West Loop</td>\n",
       "      <td>5163.666667</td>\n",
       "    </tr>\n",
       "    <tr>\n",
       "      <th>4</th>\n",
       "      <td>O'Hare</td>\n",
       "      <td>2546.900000</td>\n",
       "    </tr>\n",
       "  </tbody>\n",
       "</table>\n",
       "</div>"
      ],
      "text/plain": [
       "  dropoff_location_name  average_trips\n",
       "0                  Loop   10727.466667\n",
       "1           River North    9523.666667\n",
       "2         Streeterville    6664.666667\n",
       "3             West Loop    5163.666667\n",
       "4                O'Hare    2546.900000"
      ]
     },
     "execution_count": 7,
     "metadata": {},
     "output_type": "execute_result"
    }
   ],
   "source": [
    "dropoff_location.head()"
   ]
  },
  {
   "cell_type": "code",
   "execution_count": 8,
   "metadata": {},
   "outputs": [
    {
     "data": {
      "text/plain": [
       "0"
      ]
     },
     "execution_count": 8,
     "metadata": {},
     "output_type": "execute_result"
    }
   ],
   "source": [
    "dropoff_location.duplicated().sum()"
   ]
  },
  {
   "cell_type": "markdown",
   "metadata": {},
   "source": [
    "Possui 94 linhas e 2 colunas.\n",
    "\n",
    "- Não há valores ausentes.\n",
    "- Não há valores duplicados.\n",
    "- Os tipos de dados das 2 colunas está correto.\n",
    "\n",
    "Não há correções a serem feitas nesse dataframe."
   ]
  },
  {
   "cell_type": "markdown",
   "metadata": {},
   "source": [
    "### loop_trip"
   ]
  },
  {
   "cell_type": "code",
   "execution_count": 9,
   "metadata": {},
   "outputs": [],
   "source": [
    "loop_trip = pd.read_csv('/datasets/project_sql_result_07.csv')"
   ]
  },
  {
   "cell_type": "markdown",
   "metadata": {},
   "source": [
    "Descrição loop_trip: Ele contém dados sobre viagens do Loop para o Aeroporto Internacional O'Hare.\n",
    "- `start_ts` — data e hora do começo da corrida\n",
    "- `weather_conditions` — condições meteorológicas no momento em que a corrida começou\n",
    "- `duration_seconds` — duração da viagem em segundos"
   ]
  },
  {
   "cell_type": "code",
   "execution_count": 10,
   "metadata": {
    "scrolled": true
   },
   "outputs": [
    {
     "name": "stdout",
     "output_type": "stream",
     "text": [
      "<class 'pandas.core.frame.DataFrame'>\n",
      "RangeIndex: 1068 entries, 0 to 1067\n",
      "Data columns (total 3 columns):\n",
      " #   Column              Non-Null Count  Dtype  \n",
      "---  ------              --------------  -----  \n",
      " 0   start_ts            1068 non-null   object \n",
      " 1   weather_conditions  1068 non-null   object \n",
      " 2   duration_seconds    1068 non-null   float64\n",
      "dtypes: float64(1), object(2)\n",
      "memory usage: 25.2+ KB\n"
     ]
    }
   ],
   "source": [
    "loop_trip.info()"
   ]
  },
  {
   "cell_type": "markdown",
   "metadata": {},
   "source": [
    "A coluna 'start_ts' deveria ser do tipo datetime."
   ]
  },
  {
   "cell_type": "code",
   "execution_count": 11,
   "metadata": {},
   "outputs": [
    {
     "data": {
      "text/html": [
       "<div>\n",
       "<style scoped>\n",
       "    .dataframe tbody tr th:only-of-type {\n",
       "        vertical-align: middle;\n",
       "    }\n",
       "\n",
       "    .dataframe tbody tr th {\n",
       "        vertical-align: top;\n",
       "    }\n",
       "\n",
       "    .dataframe thead th {\n",
       "        text-align: right;\n",
       "    }\n",
       "</style>\n",
       "<table border=\"1\" class=\"dataframe\">\n",
       "  <thead>\n",
       "    <tr style=\"text-align: right;\">\n",
       "      <th></th>\n",
       "      <th>start_ts</th>\n",
       "      <th>weather_conditions</th>\n",
       "      <th>duration_seconds</th>\n",
       "    </tr>\n",
       "  </thead>\n",
       "  <tbody>\n",
       "    <tr>\n",
       "      <th>0</th>\n",
       "      <td>2017-11-25 16:00:00</td>\n",
       "      <td>Good</td>\n",
       "      <td>2410.0</td>\n",
       "    </tr>\n",
       "    <tr>\n",
       "      <th>1</th>\n",
       "      <td>2017-11-25 14:00:00</td>\n",
       "      <td>Good</td>\n",
       "      <td>1920.0</td>\n",
       "    </tr>\n",
       "    <tr>\n",
       "      <th>2</th>\n",
       "      <td>2017-11-25 12:00:00</td>\n",
       "      <td>Good</td>\n",
       "      <td>1543.0</td>\n",
       "    </tr>\n",
       "    <tr>\n",
       "      <th>3</th>\n",
       "      <td>2017-11-04 10:00:00</td>\n",
       "      <td>Good</td>\n",
       "      <td>2512.0</td>\n",
       "    </tr>\n",
       "    <tr>\n",
       "      <th>4</th>\n",
       "      <td>2017-11-11 07:00:00</td>\n",
       "      <td>Good</td>\n",
       "      <td>1440.0</td>\n",
       "    </tr>\n",
       "  </tbody>\n",
       "</table>\n",
       "</div>"
      ],
      "text/plain": [
       "              start_ts weather_conditions  duration_seconds\n",
       "0  2017-11-25 16:00:00               Good            2410.0\n",
       "1  2017-11-25 14:00:00               Good            1920.0\n",
       "2  2017-11-25 12:00:00               Good            1543.0\n",
       "3  2017-11-04 10:00:00               Good            2512.0\n",
       "4  2017-11-11 07:00:00               Good            1440.0"
      ]
     },
     "execution_count": 11,
     "metadata": {},
     "output_type": "execute_result"
    }
   ],
   "source": [
    "loop_trip.head()"
   ]
  },
  {
   "cell_type": "code",
   "execution_count": 12,
   "metadata": {
    "scrolled": true
   },
   "outputs": [
    {
     "data": {
      "text/plain": [
       "197"
      ]
     },
     "execution_count": 12,
     "metadata": {},
     "output_type": "execute_result"
    }
   ],
   "source": [
    "loop_trip.duplicated().sum()"
   ]
  },
  {
   "cell_type": "markdown",
   "metadata": {},
   "source": [
    "Possui 197 dados duplicados."
   ]
  },
  {
   "cell_type": "code",
   "execution_count": 13,
   "metadata": {},
   "outputs": [],
   "source": [
    "# Removendo duplicatas\n",
    "loop_trip = loop_trip.drop_duplicates()"
   ]
  },
  {
   "cell_type": "code",
   "execution_count": 14,
   "metadata": {},
   "outputs": [
    {
     "data": {
      "text/plain": [
       "0"
      ]
     },
     "execution_count": 14,
     "metadata": {},
     "output_type": "execute_result"
    }
   ],
   "source": [
    "# Conferindo se funcionou\n",
    "loop_trip.duplicated().sum()"
   ]
  },
  {
   "cell_type": "code",
   "execution_count": 15,
   "metadata": {},
   "outputs": [],
   "source": [
    "loop_trip['start_ts'] = pd.to_datetime(loop_trip['start_ts'], format='%Y-%m-%d %H:%M:%S')"
   ]
  },
  {
   "cell_type": "code",
   "execution_count": 16,
   "metadata": {
    "scrolled": true
   },
   "outputs": [
    {
     "name": "stdout",
     "output_type": "stream",
     "text": [
      "<class 'pandas.core.frame.DataFrame'>\n",
      "Int64Index: 871 entries, 0 to 1067\n",
      "Data columns (total 3 columns):\n",
      " #   Column              Non-Null Count  Dtype         \n",
      "---  ------              --------------  -----         \n",
      " 0   start_ts            871 non-null    datetime64[ns]\n",
      " 1   weather_conditions  871 non-null    object        \n",
      " 2   duration_seconds    871 non-null    float64       \n",
      "dtypes: datetime64[ns](1), float64(1), object(1)\n",
      "memory usage: 27.2+ KB\n"
     ]
    }
   ],
   "source": [
    "loop_trip.info()"
   ]
  },
  {
   "cell_type": "markdown",
   "metadata": {},
   "source": [
    "Possui 3 colunas e 871 linhas após a remoção dos dados duplicados\n",
    "- Não possui valores ausentes\n",
    "- Os 197 dados duplicados foram removidos\n",
    "- Os tipos de dados estavam corretos, exceto a coluna 'start_ts' que foi corrigida."
   ]
  },
  {
   "cell_type": "markdown",
   "metadata": {},
   "source": [
    "## Análise dos dados"
   ]
  },
  {
   "cell_type": "code",
   "execution_count": 17,
   "metadata": {},
   "outputs": [
    {
     "data": {
      "text/html": [
       "<div>\n",
       "<style scoped>\n",
       "    .dataframe tbody tr th:only-of-type {\n",
       "        vertical-align: middle;\n",
       "    }\n",
       "\n",
       "    .dataframe tbody tr th {\n",
       "        vertical-align: top;\n",
       "    }\n",
       "\n",
       "    .dataframe thead th {\n",
       "        text-align: right;\n",
       "    }\n",
       "</style>\n",
       "<table border=\"1\" class=\"dataframe\">\n",
       "  <thead>\n",
       "    <tr style=\"text-align: right;\">\n",
       "      <th></th>\n",
       "      <th>dropoff_location_name</th>\n",
       "      <th>average_trips</th>\n",
       "    </tr>\n",
       "  </thead>\n",
       "  <tbody>\n",
       "    <tr>\n",
       "      <th>0</th>\n",
       "      <td>Loop</td>\n",
       "      <td>10727.466667</td>\n",
       "    </tr>\n",
       "    <tr>\n",
       "      <th>1</th>\n",
       "      <td>River North</td>\n",
       "      <td>9523.666667</td>\n",
       "    </tr>\n",
       "    <tr>\n",
       "      <th>2</th>\n",
       "      <td>Streeterville</td>\n",
       "      <td>6664.666667</td>\n",
       "    </tr>\n",
       "    <tr>\n",
       "      <th>3</th>\n",
       "      <td>West Loop</td>\n",
       "      <td>5163.666667</td>\n",
       "    </tr>\n",
       "    <tr>\n",
       "      <th>4</th>\n",
       "      <td>O'Hare</td>\n",
       "      <td>2546.900000</td>\n",
       "    </tr>\n",
       "    <tr>\n",
       "      <th>5</th>\n",
       "      <td>Lake View</td>\n",
       "      <td>2420.966667</td>\n",
       "    </tr>\n",
       "    <tr>\n",
       "      <th>6</th>\n",
       "      <td>Grant Park</td>\n",
       "      <td>2068.533333</td>\n",
       "    </tr>\n",
       "    <tr>\n",
       "      <th>7</th>\n",
       "      <td>Museum Campus</td>\n",
       "      <td>1510.000000</td>\n",
       "    </tr>\n",
       "    <tr>\n",
       "      <th>8</th>\n",
       "      <td>Gold Coast</td>\n",
       "      <td>1364.233333</td>\n",
       "    </tr>\n",
       "    <tr>\n",
       "      <th>9</th>\n",
       "      <td>Sheffield &amp; DePaul</td>\n",
       "      <td>1259.766667</td>\n",
       "    </tr>\n",
       "  </tbody>\n",
       "</table>\n",
       "</div>"
      ],
      "text/plain": [
       "  dropoff_location_name  average_trips\n",
       "0                  Loop   10727.466667\n",
       "1           River North    9523.666667\n",
       "2         Streeterville    6664.666667\n",
       "3             West Loop    5163.666667\n",
       "4                O'Hare    2546.900000\n",
       "5             Lake View    2420.966667\n",
       "6            Grant Park    2068.533333\n",
       "7         Museum Campus    1510.000000\n",
       "8            Gold Coast    1364.233333\n",
       "9    Sheffield & DePaul    1259.766667"
      ]
     },
     "execution_count": 17,
     "metadata": {},
     "output_type": "execute_result"
    }
   ],
   "source": [
    "# 10 principais bairros\n",
    "dropoff_location.head(10).sort_values(by='average_trips', ascending=False)"
   ]
  },
  {
   "cell_type": "markdown",
   "metadata": {},
   "source": [
    "Os 10 principais bairros em termos de destinos são: \n",
    "- Loop\n",
    "- River North\n",
    "- Streeterville\n",
    "- West Loop\n",
    "- O'Hare\n",
    "- Lake View\t\n",
    "- Grant Park\t\n",
    "- Museum Campus\t\n",
    "- Gold Coast\n",
    "- Sheffield & DePaul"
   ]
  },
  {
   "cell_type": "markdown",
   "metadata": {},
   "source": [
    "### Gráficos"
   ]
  },
  {
   "cell_type": "code",
   "execution_count": 18,
   "metadata": {},
   "outputs": [
    {
     "data": {
      "text/plain": [
       "<AxesSubplot:xlabel='company_name'>"
      ]
     },
     "execution_count": 18,
     "metadata": {},
     "output_type": "execute_result"
    },
    {
     "data": {
      "image/png": "[encoded data removed]",
      "text/plain": [
       "<Figure size 1080x576 with 1 Axes>"
      ]
     },
     "metadata": {
      "needs_background": "light"
     },
     "output_type": "display_data"
    }
   ],
   "source": [
    "taxi_company.plot.bar(figsize=(15,8), x='company_name')"
   ]
  },
  {
   "cell_type": "markdown",
   "metadata": {},
   "source": [
    "A empresa de taxis que mais fez viagens entre os dia 15 e 16 de novembro foi a Flash Cab, sendo quase o dobro em relação a segunda empresa que mais fez viagens. Acredito que esse padrão em que a Flash Cab faz mais viagens, não existe apenas nos dias 15 e 16 de novembro, mas no mês inteiro, sendo a empresa preferida das pessoas. "
   ]
  },
  {
   "cell_type": "code",
   "execution_count": 19,
   "metadata": {},
   "outputs": [
    {
     "data": {
      "text/plain": [
       "<AxesSubplot:xlabel='dropoff_location_name'>"
      ]
     },
     "execution_count": 19,
     "metadata": {},
     "output_type": "execute_result"
    },
    {
     "data": {
      "image/png": "[encoded data removed]",
      "text/plain": [
       "<Figure size 1080x576 with 1 Axes>"
      ]
     },
     "metadata": {
      "needs_background": "light"
     },
     "output_type": "display_data"
    }
   ],
   "source": [
    "location_10 = dropoff_location.head(10).sort_values(by='average_trips', ascending=False)\n",
    "location_10.plot.bar(figsize=(15,8), x='dropoff_location_name')"
   ]
  },
  {
   "cell_type": "markdown",
   "metadata": {},
   "source": [
    "Assim como vimos acima, Loop é o bairro de destino mais frequentado, seguido do River North, Streeterville e Wet Loop, com médias acima de 5000. A média do restante dos bairros é menor que 3000."
   ]
  },
  {
   "cell_type": "markdown",
   "metadata": {},
   "source": [
    "## Testando Hipóteses"
   ]
  },
  {
   "cell_type": "markdown",
   "metadata": {},
   "source": [
    "Nula: A duração média dos passeios do Loop para o Aeroporto Internacional O'Hare não muda/é igual nos sábados chuvosos. \n",
    "\n",
    "Alternativa: contrária a nula, a duração média dos passeios do Loop para o Aeroporto Internacional O'Hare muda nos sábados chuvosos."
   ]
  },
  {
   "cell_type": "code",
   "execution_count": 20,
   "metadata": {},
   "outputs": [],
   "source": [
    "loop_trip_bad = loop_trip.query('weather_conditions == \"Bad\"')\n",
    "loop_trip_good = loop_trip.query('weather_conditions == \"Good\"')"
   ]
  },
  {
   "cell_type": "code",
   "execution_count": 21,
   "metadata": {},
   "outputs": [],
   "source": [
    "loop_trip_bad = loop_trip_bad['duration_seconds']\n",
    "loop_trip_good = loop_trip_good['duration_seconds']"
   ]
  },
  {
   "cell_type": "code",
   "execution_count": 22,
   "metadata": {},
   "outputs": [
    {
     "data": {
      "text/plain": [
       "count     148.000000\n",
       "mean     2409.229730\n",
       "std       751.544705\n",
       "min       480.000000\n",
       "25%      1746.000000\n",
       "50%      2463.500000\n",
       "75%      2940.000000\n",
       "max      4980.000000\n",
       "Name: duration_seconds, dtype: float64"
      ]
     },
     "execution_count": 22,
     "metadata": {},
     "output_type": "execute_result"
    }
   ],
   "source": [
    "loop_trip_bad.describe()"
   ]
  },
  {
   "cell_type": "markdown",
   "metadata": {},
   "source": [
    "Se as variâncias das populações estatísticas das quais as amostras são retiradas forem aproximadamente iguais equal_var=True; senão equal_var=False"
   ]
  },
  {
   "cell_type": "code",
   "execution_count": 23,
   "metadata": {},
   "outputs": [
    {
     "data": {
      "text/plain": [
       "564819.443613537"
      ]
     },
     "execution_count": 23,
     "metadata": {},
     "output_type": "execute_result"
    }
   ],
   "source": [
    "# Variância bad\n",
    "751.544705 * 751.544705"
   ]
  },
  {
   "cell_type": "code",
   "execution_count": 24,
   "metadata": {},
   "outputs": [
    {
     "data": {
      "text/plain": [
       "count     723.000000\n",
       "mean     2032.253112\n",
       "std       773.444860\n",
       "min         0.000000\n",
       "25%      1435.500000\n",
       "50%      1883.000000\n",
       "75%      2491.500000\n",
       "max      7440.000000\n",
       "Name: duration_seconds, dtype: float64"
      ]
     },
     "execution_count": 24,
     "metadata": {},
     "output_type": "execute_result"
    }
   ],
   "source": [
    "loop_trip_good.describe()"
   ]
  },
  {
   "cell_type": "code",
   "execution_count": 25,
   "metadata": {},
   "outputs": [
    {
     "data": {
      "text/plain": [
       "598216.9514604196"
      ]
     },
     "execution_count": 25,
     "metadata": {},
     "output_type": "execute_result"
    }
   ],
   "source": [
    "#Variância good\n",
    "773.444860 * 773.444860"
   ]
  },
  {
   "cell_type": "code",
   "execution_count": 26,
   "metadata": {},
   "outputs": [
    {
     "name": "stdout",
     "output_type": "stream",
     "text": [
      "p-value:  7.397770692813604e-08\n"
     ]
    }
   ],
   "source": [
    "results = st.ttest_ind(loop_trip_bad, loop_trip_good, equal_var=True)\n",
    "print('p-value: ', results.pvalue)"
   ]
  },
  {
   "cell_type": "code",
   "execution_count": 27,
   "metadata": {},
   "outputs": [
    {
     "name": "stdout",
     "output_type": "stream",
     "text": [
      "Nós rejeitamos a hipótese nula\n"
     ]
    }
   ],
   "source": [
    "alpha = 0.05\n",
    "if results.pvalue < alpha:\n",
    "    print(\"Nós rejeitamos a hipótese nula\")\n",
    "else:\n",
    "    print(\"Nós não podemos rejeitar a hipótese nula\")"
   ]
  },
  {
   "cell_type": "markdown",
   "metadata": {},
   "source": [
    "Nós rejeitamos a hipótese de que a duração média dos passeios do Loop para o Aeroporto Internacional O'Hare não muda/é igual nos sábados chuvosos; ela muda, pois dias chuvosos tendem a ter muito mais trânsito que dias ensolarados ou nublados."
   ]
  },
  {
   "cell_type": "markdown",
   "metadata": {},
   "source": [
    "## Conclusão Geral"
   ]
  },
  {
   "cell_type": "markdown",
   "metadata": {},
   "source": [
    "#### Importando dados\n",
    "Iniciei esse projeto importando os dados sobre o clima em Chicago em novembro de 2017 do site \"https://practicum-content.s3.us-west-1.amazonaws.com/data-analyst-eng/moved_chicago_weather_2017.html\", usando a biblioteca requests e BeautifulSoup.\n",
    "\n",
    "#### Análise Exploratória com SQL\n",
    "Em seguida, fui para a análise exploratória dos dados usando SQL, com as seguinte tabelas:\n",
    "Tabela neighborhoods: dados sobre os bairros da cidade\n",
    "- nome: nome do bairro\n",
    "- neighborhood_id: código do bairro\n",
    "\n",
    "Tabela cabs: dados sobre os táxis\n",
    "- cab_id: código do veículo\n",
    "- vehicle_id: a identificação técnica do veículo\n",
    "- company_name: a empresa proprietária do veículo\n",
    "\n",
    "Tabela trips: dados sobre corridas\n",
    "- trip_id: código da corrida\n",
    "- cab_id: código do veículo que opera a corrida\n",
    "- start_ts: data e hora do início da corrida (tempo arredondado para a hora)\n",
    "- end_ts: data e hora do fim da corrida (tempo arredondado para a hora)\n",
    "- duration_seconds: duração da corrida em segundos\n",
    "- distance_miles: distância do percurso em milhas\n",
    "- pickup_location_id: código do bairro de retirada\n",
    "- dropoff_location_id: código do bairro de entrega\n",
    "\n",
    "Tabela weather_records: dados sobre o clima\n",
    "- record_id: código de registro meteorológico\n",
    "- ts: gravar data e hora (tempo arredondado para a hora)\n",
    "- temperatura: temperatura quando o registro foi feito\n",
    "- descrição: breve descrição das condições meteorológicas, ex. \"chuva leve\" ou \"nuvens esparsas\"\n",
    "\n",
    "Com essas tabelas:\n",
    "- Encontrei o número de corridas de táxi para cada empresa de táxi de 15 a 16 de novembro de 2017;\n",
    "- Encontrei o número de corridas para cada empresa de táxi cujo nome contém as palavras \"Amarelo\" ou \"Azul\" de 1º a 7 de novembro de 2017; \n",
    "- Sabendo que em novembro de 2017, as empresas de táxi mais populares eram Flash Cab e Taxi Affiliation Services, encontrei o número de corridas para essas duas empresas.\n",
    "- Recuperei os identificadores dos bairros O'Hare e Loop da tabela neighborhoods;\n",
    "- Para cada hora, recuperei os registros de condições meteorológicas da tabela weather_records e dividi todas as horas em dois grupos: \"Bad\" se o campo description contiver as palavras \"rain\" (chuva) ou \"storm\" (tempestade) e \"Good\" para outros. \n",
    "- Recuperei da tabela trips todos as corridas que começaram no Loop e terminaram em O'Hare em um sábado.\n",
    "\n",
    "#### Análise Exploratória com Python\n",
    "Com os dados obtidos anteriormente, comecei a análise com Python.\n",
    "\n",
    "Iniciei importando as bibliotecas pandas e seaborn e carregando os resultados obtidos a partir do SQL. \n",
    "\n",
    "Em seguida, procurei por problemas nos dados. Os dataframes taxi_company e dropoff_locarion não possuiam dados ausentes nem duplicados, e estavam com os tipos de dados corretos.\n",
    "\n",
    "O dataframe loop_trip, possuia 197 dados duplicados que foram removidos e a coluna 'start_ts', que estava no tipo object, foi alterada para o tipo datetime.\n",
    "\n",
    "A partir disso, identifiquei os 10 principais bairros em termos de destinos e fiz gráficos para análise (\"empresas de táxi e número de corridas\"; e \"10 principais bairros por número de corridas em que esse - bairro é destino\"), chegando a conclusão que:\n",
    "- A empresa de taxis que mais fez viagens entre os dia 15 e 16 de novembro foi a Flash Cab, sendo quase o dobro em relação a segunda empresa que mais fez viagens. Acredito que esse padrão em que a Flash Cab faz mais viagens, não existe apenas nos dias 15 e 16 de novembro, mas no mês inteiro, sendo a empresa preferida das pessoas.\n",
    "- Loop é o bairro de destino mais frequentado, seguido do River North, Streeterville e Wet Loop, com médias acima de 5000. A média do restante dos bairros é menor que 3000.\n",
    "\n",
    "Preferências dos passageiros:\n",
    "- A empresa de taxis Flash Cab \n",
    "- Destino: bairro Loop\n",
    "\n",
    "Impacto de fatores externos nas corridas:\n",
    "- Dias chuvosos possuem a média de duração muito maior que dias não chuvosos.\n",
    "\n",
    "#### Testando a hipótese \n",
    "Ao testar a hipótese:\n",
    "- Nós rejeitamos a hipótese de que a duração média dos passeios do Loop para o Aeroporto Internacional O'Hare não muda/é igual nos sábados chuvosos; ela muda, pois dias chuvosos tendem a ter muito mais trânsito que dias ensolarados ou nublados."
   ]
  }
 ],
 "metadata": {
  "kernelspec": {
   "display_name": "Python 3 (ipykernel)",
   "language": "python",
   "name": "python3"
  },
  "language_info": {
   "codemirror_mode": {
    "name": "ipython",
    "version": 3
   },
   "file_extension": ".py",
   "mimetype": "text/x-python",
   "name": "python",
   "nbconvert_exporter": "python",
   "pygments_lexer": "ipython3",
   "version": "3.9.5"
  },
  "toc": {
   "base_numbering": 1,
   "nav_menu": {},
   "number_sections": true,
   "sideBar": true,
   "skip_h1_title": true,
   "title_cell": "Table of Contents",
   "title_sidebar": "Contents",
   "toc_cell": false,
   "toc_position": {},
   "toc_section_display": true,
   "toc_window_display": false
  }
 },
 "nbformat": 4,
 "nbformat_minor": 2
}
